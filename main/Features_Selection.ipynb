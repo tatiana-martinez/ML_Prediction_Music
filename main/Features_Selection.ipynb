{
 "cells": [
  {
   "cell_type": "code",
   "execution_count": 16,
   "metadata": {},
   "outputs": [],
   "source": [
    "class PCA_model :\n",
    "    \n",
    "    from sklearn.decomposition import PCA\n",
    "    \n",
    "    def n_components(n, X): #n integer <= number of feature of the df and X the features of the df\n",
    "        modelpca = PCA(n_components = n)\n",
    "        Xpca_reduced_n = modelpca.fit_transform(X)\n",
    "        sum_var = np.cumsum(modelpca.explained_variance_ratio_)\n",
    "        return sum_var\n",
    "\n",
    "    def model_pca (n, X) : #n integer identify with n_components function and <= number of feature of the df and X the features of the df\n",
    "        modelpca = PCA(n_components=n)\n",
    "        Xpca = modelpca.fit_transform(X)\n",
    "        return Xpca\n",
    "    \n",
    "    def df_pca (n, Xpca) : # df after using pca\n",
    "        df_pca = pd.DataFrame(Xpca, columns=['PC'+str(i) for i in range(1,n+1)])\n",
    "        return df_pca.head(30)\n",
    "    "
   ]
  },
  {
   "cell_type": "code",
   "execution_count": 17,
   "metadata": {},
   "outputs": [],
   "source": [
    "def X2 (X,y):\n",
    "    X2_score = chi2(X, y)\n",
    "    return X2_score\n",
    "\n",
    "def viz_X2(X2_score):\n",
    "    \n",
    "    p_values = pd.Series(X2_score[0], index=col_model_features)\n",
    "    p_values.sort_values(ascending=False, inplace=True)\n",
    "    \n",
    "    return p_values.plot.barh()"
   ]
  },
  {
   "cell_type": "code",
   "execution_count": 3,
   "metadata": {},
   "outputs": [],
   "source": []
  },
  {
   "cell_type": "code",
   "execution_count": null,
   "metadata": {},
   "outputs": [],
   "source": []
  }
 ],
 "metadata": {
  "kernelspec": {
   "display_name": "Python 3",
   "language": "python",
   "name": "python3"
  },
  "language_info": {
   "codemirror_mode": {
    "name": "ipython",
    "version": 3
   },
   "file_extension": ".py",
   "mimetype": "text/x-python",
   "name": "python",
   "nbconvert_exporter": "python",
   "pygments_lexer": "ipython3",
   "version": "3.7.7"
  },
  "toc": {
   "base_numbering": 1,
   "nav_menu": {},
   "number_sections": true,
   "sideBar": true,
   "skip_h1_title": false,
   "title_cell": "Table of Contents",
   "title_sidebar": "Contents",
   "toc_cell": false,
   "toc_position": {},
   "toc_section_display": true,
   "toc_window_display": false
  }
 },
 "nbformat": 4,
 "nbformat_minor": 4
}
