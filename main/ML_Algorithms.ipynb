{
 "cells": [
  {
   "cell_type": "code",
   "execution_count": 2,
   "metadata": {},
   "outputs": [],
   "source": [
    "class ML_algorithm :\n",
    "    #model: DecisionTreeClassifier(), RandomForestClassifier(), RandomForestClassifier(class_weight='balanced')\n",
    "    #\n",
    "    def ML_model_algo(model, X_train,y_train,X_test, y_test) :\n",
    "        model1=DecisionTreeClassifier()\n",
    "        model1.fit(X_train, y_train)\n",
    "        y_pred1=model1.predict(X_test)\n",
    "\n",
    "        conf1=confusion_matrix(y_test, y_pred1)#Compute confusion matrix to evaluate the accuracy of a classification.\n",
    "        acc1=accuracy_score(y_test, y_pred1)\n",
    "        rec1=recall_score(y_test, y_pred1)\n",
    "        pre1=precision_score(y_test, y_pred1)\n",
    "        f11=f1_score(y_test, y_pred1)\n",
    "\n",
    "        display(conf1)\n",
    "\n",
    "        pa = print('Accuracy', acc1)#% of True positive\n",
    "        precall = print('Recall', rec1)#min False Negative\n",
    "        pprec = print('Precision', pre1)#min False Positive\n",
    "        pF1 = print('F1', f11)# 2*(Precision*Recall/Precision+Recall)\n",
    "\n",
    "        return pa, precall, pprec, pF1"
   ]
  },
  {
   "cell_type": "code",
   "execution_count": null,
   "metadata": {},
   "outputs": [],
   "source": []
  }
 ],
 "metadata": {
  "kernelspec": {
   "display_name": "Python 3",
   "language": "python",
   "name": "python3"
  },
  "language_info": {
   "codemirror_mode": {
    "name": "ipython",
    "version": 3
   },
   "file_extension": ".py",
   "mimetype": "text/x-python",
   "name": "python",
   "nbconvert_exporter": "python",
   "pygments_lexer": "ipython3",
   "version": "3.7.7"
  },
  "toc": {
   "base_numbering": 1,
   "nav_menu": {},
   "number_sections": true,
   "sideBar": true,
   "skip_h1_title": false,
   "title_cell": "Table of Contents",
   "title_sidebar": "Contents",
   "toc_cell": false,
   "toc_position": {},
   "toc_section_display": true,
   "toc_window_display": false
  }
 },
 "nbformat": 4,
 "nbformat_minor": 4
}
