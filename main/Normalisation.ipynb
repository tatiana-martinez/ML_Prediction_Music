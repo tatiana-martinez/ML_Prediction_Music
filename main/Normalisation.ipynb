{
 "cells": [
  {
   "cell_type": "code",
   "execution_count": 21,
   "metadata": {},
   "outputs": [],
   "source": [
    "class Normalise :\n",
    "    from sklearn.preprocessing import MinMaxScaler, StandardScaler, RobustScaler\n",
    "    \n",
    "    def Norm(X, Algo):#X features to normalise, MinMaxScaler(), StandardScaler(), RobustScaler()\n",
    "        X_norm = Algo.fit_transform(X)\n",
    "        return X_norm\n",
    "    \n",
    "    def df_Norm(X_norm) : \n",
    "        df_norm = pd.DataFrame(data= X_norm,)\n",
    "        return df_norm\n",
    "    \n",
    "    def df_Norm_Col(X_norm, cols): \n",
    "        df_norm = pd.DataFrame(data= X_norm, columns = cols)\n",
    "        return df_norm\n",
    "    \n",
    "    def VizNorm(X_origin, X_norm, int1=0, int2=1):\n",
    "        \n",
    "        Xnumpy=X_origin.to_numpy()\n",
    "        \n",
    "        #viz\n",
    "        viz1 = plt.scatter(X_norm[:, 0],X_norm[:, 1])\n",
    "        viz2 = plt.scatter(Xnumpy[:, 0],Xnumpy[:, 1])\n",
    "        \n",
    "        \n",
    "  \n",
    "        return viz1, viz2"
   ]
  },
  {
   "cell_type": "code",
   "execution_count": null,
   "metadata": {},
   "outputs": [],
   "source": []
  }
 ],
 "metadata": {
  "kernelspec": {
   "display_name": "Python 3",
   "language": "python",
   "name": "python3"
  },
  "language_info": {
   "codemirror_mode": {
    "name": "ipython",
    "version": 3
   },
   "file_extension": ".py",
   "mimetype": "text/x-python",
   "name": "python",
   "nbconvert_exporter": "python",
   "pygments_lexer": "ipython3",
   "version": "3.7.7"
  },
  "toc": {
   "base_numbering": 1,
   "nav_menu": {},
   "number_sections": true,
   "sideBar": true,
   "skip_h1_title": false,
   "title_cell": "Table of Contents",
   "title_sidebar": "Contents",
   "toc_cell": false,
   "toc_position": {},
   "toc_section_display": true,
   "toc_window_display": false
  }
 },
 "nbformat": 4,
 "nbformat_minor": 4
}
