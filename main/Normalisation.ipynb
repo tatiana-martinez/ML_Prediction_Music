{
 "cells": [
  {
   "cell_type": "code",
   "execution_count": 10,
   "metadata": {},
   "outputs": [],
   "source": [
    "class StScaler_norm : \n",
    "    #library\n",
    "    from sklearn.preprocessing import StandardScaler\n",
    "    \n",
    "    def StScaler_norm(X): #X features to normalize, int1 and int2 are nb in axis=1\n",
    "        #get data more normalize with StandardScaler\n",
    "        X_stdscl = StandardScaler().fit_transform(X)\n",
    "        return X_stdscl\n",
    "    \n",
    "    def viz_StScaler(X, int1=0, int2=1):\n",
    "        #viz\n",
    "        viz1 = plt.scatter(x=X_stdscl[:, 0],y=X_stdscl[:, 1])#normalized\n",
    "        viz2 = plt.scatter(Xnumpy[:, 0],Xnumpy[:, 1])#no normalized\n",
    "\n",
    "        df_stdscl = pd.DataFrame({'X_stdscl': X_stdscl[:, 0]})          \n",
    "        return viz1, viz2"
   ]
  },
  {
   "cell_type": "code",
   "execution_count": null,
   "metadata": {},
   "outputs": [],
   "source": [
    "from sklearn.preprocessing import MinMaxScaler, StandardScaler, RobustScaler"
   ]
  }
 ],
 "metadata": {
  "kernelspec": {
   "display_name": "Python 3",
   "language": "python",
   "name": "python3"
  },
  "language_info": {
   "codemirror_mode": {
    "name": "ipython",
    "version": 3
   },
   "file_extension": ".py",
   "mimetype": "text/x-python",
   "name": "python",
   "nbconvert_exporter": "python",
   "pygments_lexer": "ipython3",
   "version": "3.7.7"
  },
  "toc": {
   "base_numbering": 1,
   "nav_menu": {},
   "number_sections": true,
   "sideBar": true,
   "skip_h1_title": false,
   "title_cell": "Table of Contents",
   "title_sidebar": "Contents",
   "toc_cell": false,
   "toc_position": {},
   "toc_section_display": true,
   "toc_window_display": false
  }
 },
 "nbformat": 4,
 "nbformat_minor": 4
}
